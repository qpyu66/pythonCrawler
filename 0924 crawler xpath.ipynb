{
 "cells": [
  {
   "cell_type": "code",
   "execution_count": 59,
   "metadata": {},
   "outputs": [],
   "source": [
    "#-*- coding:utf-8 -*-\n",
    "from urllib.error import HTTPError\n",
    "from selenium import webdriver\n",
    "from selenium.webdriver import ActionChains\n",
    "from selenium.webdriver.common.keys import Keys\n",
    "#from bs4 import BeautifulSoup\n",
    "import time\n",
    "import pandas as pd\n",
    "import datetime\n",
    "import re\n",
    "from bs4 import BeautifulSoup as bs\n",
    "import requests\n",
    "import csv\n",
    "import numpy as np\n"
   ]
  },
  {
   "cell_type": "code",
   "execution_count": 72,
   "metadata": {},
   "outputs": [
    {
     "name": "stdout",
     "output_type": "stream",
     "text": [
      "csv save ok\n"
     ]
    }
   ],
   "source": [
    "article_list=[]\n",
    "keyword = \"빅데이터\"\n",
    "now = time.localtime()\n",
    "ntime= \"%04d%02d%02d_%02d시%02d분\" % (now.tm_year, now.tm_mon, now.tm_mday, now.tm_hour, now.tm_min)\n",
    "\n",
    "\n",
    "def title_Scraping():\n",
    "    driver = webdriver.Chrome('C:\\\\Users\\\\user\\\\Downloads\\\\chromedriver.exe')   \n",
    "    page = requests.get('https://rch.hufs.ac.kr/jsp/rchnew/ntis/unRndRssList.jsp') \n",
    "    time.sleep(1)\n",
    "    source = page.text   \n",
    "    soup = bs(source,'html.parser')\n",
    "    tables = soup.select('table')\n",
    "    table = tables[0]\n",
    "    #print(table)\n",
    "    \n",
    "    table_html = str(table) #페이지에 table가져오기\n",
    "    table_df_list = pd.read_html(table_html)   \n",
    "    table_df = table_df_list[0]\n",
    "    #print(tablea)\n",
    "    \n",
    "    #과제별 링크\n",
    "    links = soup.find_all(\"a\")\n",
    "    ahref = []\n",
    "    for a in links:\n",
    "        href = a.attrs['href']\n",
    "        ahref.append(href[19:-2])\n",
    "    linkpd = pd.DataFrame(ahref[3:])    \n",
    "    #print(linkpd)    \n",
    "    \n",
    "    df_pd = pd.DataFrame(table_df)   \n",
    "    df_pd['링크'] = linkpd  #csv에 링크 열 추가\n",
    "    #print(df_pd) \n",
    "            \n",
    "    driver.quit() #driver 종료 \n",
    "    inset_table_to_csv(df_pd) #csv로 저장\n",
    "    \n",
    "    \n",
    "#csv 파일로 저장    \n",
    "def inset_table_to_csv(df_pd):\n",
    "    fcsv = df_pd.to_csv('rndrss'+ntime+'.csv',mode='w',encoding='utf-8-sig')\n",
    "\n",
    "    print('csv save ok')    \n",
    "    \n",
    "   \n",
    "\n",
    "title_Scraping()"
   ]
  },
  {
   "cell_type": "code",
   "execution_count": null,
   "metadata": {},
   "outputs": [],
   "source": []
  }
 ],
 "metadata": {
  "kernelspec": {
   "display_name": "Python 3",
   "language": "python",
   "name": "python3"
  },
  "language_info": {
   "codemirror_mode": {
    "name": "ipython",
    "version": 3
   },
   "file_extension": ".py",
   "mimetype": "text/x-python",
   "name": "python",
   "nbconvert_exporter": "python",
   "pygments_lexer": "ipython3",
   "version": "3.7.6"
  }
 },
 "nbformat": 4,
 "nbformat_minor": 4
}
