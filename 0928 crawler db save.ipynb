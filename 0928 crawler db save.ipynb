{
 "cells": [
  {
   "cell_type": "code",
   "execution_count": 11,
   "metadata": {},
   "outputs": [],
   "source": [
    "#-*- coding:utf-8 -*-\n",
    "from urllib.error import HTTPError\n",
    "from selenium import webdriver\n",
    "from selenium.webdriver import ActionChains\n",
    "from selenium.webdriver.common.keys import Keys\n",
    "from bs4 import BeautifulSoup\n",
    "import time\n",
    "import pandas as pd\n",
    "import datetime\n",
    "import re\n",
    "from bs4 import BeautifulSoup as bs\n",
    "import requests\n",
    "import csv\n",
    "import numpy as np\n",
    "import mysql.connector\n",
    "import pymysql\n",
    "from sqlalchemy import create_engine\n",
    "import scipy.io"
   ]
  },
  {
   "cell_type": "code",
   "execution_count": 12,
   "metadata": {},
   "outputs": [],
   "source": [
    "now = time.localtime()\n",
    "ntime= \"%04d%02d%02d_%02d시%02d분\" % (now.tm_year, now.tm_mon, now.tm_mday, now.tm_hour, now.tm_min)\n"
   ]
  },
  {
   "cell_type": "code",
   "execution_count": 13,
   "metadata": {},
   "outputs": [
    {
     "name": "stdout",
     "output_type": "stream",
     "text": [
      "[['과학기술정보통신부', 'https://www.ntis.go.kr/rndgate/eg/un/ra/view.do?roRndUid=900198', '2020년도 제5차 국민생활안전 긴급대응연구사업 신규과제 공모', '2020.09.28'], ['과학기술정보통신부', 'https://www.ntis.go.kr/rndgate/eg/un/ra/view.do?roRndUid=900196', '2020 인공지능 그랜드 챌린지 2단계 대회 공고', '2020.09.28'], ['과학기술정보통신부', 'https://www.ntis.go.kr/rndgate/eg/un/ra/view.do?roRndUid=900173', '[사전규격공개]공공연구성과 육성·확산 관련 법령 정비 방안 연구용역', '2020.09.25'], ['과학기술정보통신부', 'https://www.ntis.go.kr/rndgate/eg/un/ra/view.do?roRndUid=900172', '[사전규격공개]기초 원천 연구성과 실용화 촉진을 위한 성과연계 시스템 개선방안 연구용역', '2020.09.25'], ['과학기술정보통신부', 'https://www.ntis.go.kr/rndgate/eg/un/ra/view.do?roRndUid=900097', '정부업무망 모바일화 레퍼런스 실증 사업 위탁연구과제', '2020.09.25'], ['산업통상자원부', 'https://www.ntis.go.kr/rndgate/eg/un/ra/view.do?roRndUid=900086', '2020년 신재생에너지산업 해외진출지원사업 3차 공고 및 접수 안내', '2020.09.25'], ['보건복지부', 'https://www.ntis.go.kr/rndgate/eg/un/ra/view.do?roRndUid=900067', '제약바이오산업 해외시장 진출(법인진출) 방안 연구', '2020.09.25'], ['국토교통부', 'https://www.ntis.go.kr/rndgate/eg/un/ra/view.do?roRndUid=900068', '옥상녹화와 태양광 패널설치 활성화를 위한 제도개선 연구', '2020.09.25'], ['국토교통부', 'https://www.ntis.go.kr/rndgate/eg/un/ra/view.do?roRndUid=900069', '빈집 및 소규모주택 정비사업 제도개선 연구', '2020.09.25'], ['기타', 'https://www.ntis.go.kr/rndgate/eg/un/ra/view.do?roRndUid=900070', '광주 콘텐츠거점기관 중기 발전계획 수립 연구 용역', '2020.09.25'], ['환경부', 'https://www.ntis.go.kr/rndgate/eg/un/ra/view.do?roRndUid=900071', '2020년 기후변화협상 대응전략 연구_재공고', '2020.09.25'], ['기타', 'https://www.ntis.go.kr/rndgate/eg/un/ra/view.do?roRndUid=900072', '환동해 해양레저 실감체험 복합센터 조성 타당성조사 연구용역', '2020.09.25'], ['과학기술정보통신부', 'https://www.ntis.go.kr/rndgate/eg/un/ra/view.do?roRndUid=900074', '제조서비스 융합 실증 시나리오 및 실험설계', '2020.09.25'], ['기타', 'https://www.ntis.go.kr/rndgate/eg/un/ra/view.do?roRndUid=900075', '기술거래촉진네트워크사업 베트남 기업 수요기술조사 용역', '2020.09.25'], ['과학기술정보통신부', 'https://www.ntis.go.kr/rndgate/eg/un/ra/view.do?roRndUid=900076', '난삭재 항공부품 가공 공정 기술보고서', '2020.09.25'], ['과학기술정보통신부', 'https://www.ntis.go.kr/rndgate/eg/un/ra/view.do?roRndUid=900136', '[부산] 2020년도 프로젝트 Lab-연구소기업 사전기획 사업 공고', '2020.09.28'], ['산업통상자원부', 'https://www.ntis.go.kr/rndgate/eg/un/ra/view.do?roRndUid=899927', '2021년 제조분야 온실가스 미세먼지 동시저감 기술개발사업 수요조사 공고', '2020.09.25'], ['중소벤처기업부', 'https://www.ntis.go.kr/rndgate/eg/un/ra/view.do?roRndUid=900062', '2020년 공정품질기술개발사업(혁신형R&D) 고도화과제 공고', '2020.09.25'], ['과학기술정보통신부', 'https://www.ntis.go.kr/rndgate/eg/un/ra/view.do?roRndUid=900141', '2020년도 혁신도전 프로젝트 사업 연구기획과제 공모(제2차)', '2020.09.28'], ['과학기술정보통신부', 'https://www.ntis.go.kr/rndgate/eg/un/ra/view.do?roRndUid=900063', '2020년도 제1차 원자력국제협력기반조성사업 신규과제 재공고', '2020.09.25'], ['고용노동부', 'https://www.ntis.go.kr/rndgate/eg/un/ra/view.do?roRndUid=899953', '퀵서비스기사 소득 및 종사시간 실태조사 연구용역', '2020.09.24'], ['산업통상자원부', 'https://www.ntis.go.kr/rndgate/eg/un/ra/view.do?roRndUid=899988', '2020년도 전력정보화 및 정책지원(전력기술기반구축) 신규지원 대상과제 공고', '2020.09.24'], ['산업통상자원부', 'https://www.ntis.go.kr/rndgate/eg/un/ra/view.do?roRndUid=899984', '로봇 핵심부품 및 SW자립화를 위한 기술개발 전략수립[제안요청서 초안 사전공개]', '2020.09.24'], ['중소벤처기업부', 'https://www.ntis.go.kr/rndgate/eg/un/ra/view.do?roRndUid=900025', '2020년도 해외원천기술 상용화기술개발사업(기술진단기획) 시행계획 2차 공고', '2020.09.24'], ['특허청', 'https://www.ntis.go.kr/rndgate/eg/un/ra/view.do?roRndUid=899981', '선행융합연구사업 특허전략 수립 지원 협력기관 모집 공고', '2020.09.24'], ['과학기술정보통신부', 'https://www.ntis.go.kr/rndgate/eg/un/ra/view.do?roRndUid=900003', '인공지능 생태계 육성을 위한 클러스터 활성화 정책 연구 용역', '2020.09.24'], ['과학기술정보통신부', 'https://www.ntis.go.kr/rndgate/eg/un/ra/view.do?roRndUid=900004', '인공지능 산업 경쟁력 지수 개발 방법론 연구 용역', '2020.09.24'], ['해양수산부', 'https://www.ntis.go.kr/rndgate/eg/un/ra/view.do?roRndUid=899929', '부산항만공사 신사옥 건립 타당성 검토 및 기본구상 연구용역', '2020.09.24'], ['기타', 'https://www.ntis.go.kr/rndgate/eg/un/ra/view.do?roRndUid=899931', '전남 도민의 사회적 격차 인식조사를 위한 지표 개발 연구용역_재공고', '2020.09.24'], ['기타', 'https://www.ntis.go.kr/rndgate/eg/un/ra/view.do?roRndUid=899933', '경상남도 융복합 스포츠산업 거점 조성 타당성 조사 연구 용역', '2020.09.24'], ['중소벤처기업부', 'https://www.ntis.go.kr/rndgate/eg/un/ra/view.do?roRndUid=899934', '빅데이터 기반 스마트 R&D 지원시스템 연구', '2020.09.24'], ['식품의약품안전처', 'https://www.ntis.go.kr/rndgate/eg/un/ra/view.do?roRndUid=899936', '포스트코로나시대, 통계적기법을 활용한 식·의약 이슈 발굴', '2020.09.24'], ['기타', 'https://www.ntis.go.kr/rndgate/eg/un/ra/view.do?roRndUid=899937', '봉화군 농어촌버스 공영제 시행방안 연구용역', '2020.09.24'], ['산업통상자원부', 'https://www.ntis.go.kr/rndgate/eg/un/ra/view.do?roRndUid=899938', '의료영상 데이터 표준화 기법 비교 연구_재공고', '2020.09.24'], ['중소벤처기업부', 'https://www.ntis.go.kr/rndgate/eg/un/ra/view.do?roRndUid=899946', '중기간 경쟁제품 계약이행능력심사 세부기준에 관한 연구용역', '2020.09.24'], ['국토교통부', 'https://www.ntis.go.kr/rndgate/eg/un/ra/view.do?roRndUid=899947', '제4차 대중교통 기본계획 수립', '2020.09.24'], ['보건복지부', 'https://www.ntis.go.kr/rndgate/eg/un/ra/view.do?roRndUid=899950', '의료 해외진출 금융조달 활성화 기반 구축방안 연구', '2020.09.24'], ['기타', 'https://www.ntis.go.kr/rndgate/eg/un/ra/view.do?roRndUid=899952', '시민체육공원 및 종합운동장 활용방안 연구용역', '2020.09.24'], ['기타', 'https://www.ntis.go.kr/rndgate/eg/un/ra/view.do?roRndUid=899956', '2020 글로벌 네트워크 구축사업', '2020.09.24'], ['과학기술정보통신부', 'https://www.ntis.go.kr/rndgate/eg/un/ra/view.do?roRndUid=899957', '고융점 및 에너지 소재용 전략 희유금속 고순도화 공정 개선 지원 연구 용역', '2020.09.24'], ['기타', 'https://www.ntis.go.kr/rndgate/eg/un/ra/view.do?roRndUid=899958', '국립희귀질환센터 익산시 설립 기본구상 및 타당성 검토 용역_재공고', '2020.09.24'], ['중소벤처기업부', 'https://www.ntis.go.kr/rndgate/eg/un/ra/view.do?roRndUid=899959', '기술개발제품 우선구매 지원 제도 신규정책 도입·운영 방안 연구_재공고', '2020.09.24'], ['기타', 'https://www.ntis.go.kr/rndgate/eg/un/ra/view.do?roRndUid=899960', 'ICT폴리텍대학 선진화 발전방안 및 교육과정 지원체제 혁신방안 연구 용역_재공고', '2020.09.24'], ['산업통상자원부', 'https://www.ntis.go.kr/rndgate/eg/un/ra/view.do?roRndUid=898351', '&apos;21년도 시스템반도체 분야 R&D사업 추가 기술수요조사 공고', '2020.09.11'], ['질병관리청', 'https://www.ntis.go.kr/rndgate/eg/un/ra/view.do?roRndUid=899603', '코로나19 전장유전자 정보 생산 및 분석', '2020.09.22'], ['질병관리청', 'https://www.ntis.go.kr/rndgate/eg/un/ra/view.do?roRndUid=899141', '급성호흡기감염증 병원체 감시사업 : 소아폐렴 원인병원체 중심', '2020.09.17'], ['질병관리청', 'https://www.ntis.go.kr/rndgate/eg/un/ra/view.do?roRndUid=899002', '전장유전자 기반 코로나19 변이 구조 분석 및 모델링', '2020.09.16'], ['질병관리청', 'https://www.ntis.go.kr/rndgate/eg/un/ra/view.do?roRndUid=898602', '[정책연구] 고위험 직업군(동물병원 종사자)에서의 SFTS 감염 실태조사 연구', '2020.09.14'], ['보건복지부', 'https://www.ntis.go.kr/rndgate/eg/un/ra/view.do?roRndUid=899790', '보건소 모바일 헬스케어 서비스 효과성 검증을 위한 핵심지표 개발', '2020.09.23'], ['산업통상자원부', 'https://www.ntis.go.kr/rndgate/eg/un/ra/view.do?roRndUid=899870', '2020년 산업부 인력양성 종합성과분석', '2020.09.23'], ['환경부', 'https://www.ntis.go.kr/rndgate/eg/un/ra/view.do?roRndUid=899859', '「지하역사 공기질 개선사업의 미세먼지 저감효과 평가방법론 마련 연구」 입찰 공고', '2020.09.23'], ['중소벤처기업부', 'https://www.ntis.go.kr/rndgate/eg/un/ra/view.do?roRndUid=899496', ' 2021년도 해외원천기술 상용화기술개발사업 기술 제안서 접수 안내', '2020.09.21'], ['해양수산부', 'https://www.ntis.go.kr/rndgate/eg/un/ra/view.do?roRndUid=899762', '부산항만공사 신사옥 건립 타당성 검토 및 기본구상 연구용역', '2020.09.23'], ['과학기술정보통신부', 'https://www.ntis.go.kr/rndgate/eg/un/ra/view.do?roRndUid=899764', '디지털 트윈 현황 분석 및 발전전략 수립_재공고', '2020.09.23'], ['농촌진흥청', 'https://www.ntis.go.kr/rndgate/eg/un/ra/view.do?roRndUid=899766', '식량작물 미래육종 방향 및 복합형질 최적화 시스템 구축 전략', '2020.09.23'], ['행정안전부', 'https://www.ntis.go.kr/rndgate/eg/un/ra/view.do?roRndUid=899767', '코로나19 시설별 점검리스트 개선ㆍ발굴 용역', '2020.09.23'], ['과학기술정보통신부', 'https://www.ntis.go.kr/rndgate/eg/un/ra/view.do?roRndUid=899769', '아토피 의약품 임상시험계획 수립_재공고', '2020.09.23'], ['기타', 'https://www.ntis.go.kr/rndgate/eg/un/ra/view.do?roRndUid=899771', '제7차 대구권 관광개발계획 수립 연구용역_재공고', '2020.09.23'], ['국토교통부', 'https://www.ntis.go.kr/rndgate/eg/un/ra/view.do?roRndUid=899774', 'Green NCAP 제도 마련을 위한   등급제 타당성 검증 연구', '2020.09.23'], ['과학기술정보통신부', 'https://www.ntis.go.kr/rndgate/eg/un/ra/view.do?roRndUid=899777', '개방형OS 민간사용 실태조사', '2020.09.23'], ['보건복지부', 'https://www.ntis.go.kr/rndgate/eg/un/ra/view.do?roRndUid=899780', '연명의료결정 관련 수가 시범사업 평가 및 개선방안 연구', '2020.09.23'], ['기타', 'https://www.ntis.go.kr/rndgate/eg/un/ra/view.do?roRndUid=899781', '2030 중장기 교육훈련계획 수립 학술용역', '2020.09.23'], ['중소벤처기업부', 'https://www.ntis.go.kr/rndgate/eg/un/ra/view.do?roRndUid=899782', '중소기업·소상공인 밀집지역 실태조사 연구 용역', '2020.09.23'], ['기타', 'https://www.ntis.go.kr/rndgate/eg/un/ra/view.do?roRndUid=899783', '2020년도 전라남도 ICT산업 중장기 발전전략 수립 연구용역', '2020.09.23'], ['기타', 'https://www.ntis.go.kr/rndgate/eg/un/ra/view.do?roRndUid=899785', '충남지역 SW산업 기획 발전전략수립 연구용역', '2020.09.23'], ['기타', 'https://www.ntis.go.kr/rndgate/eg/un/ra/view.do?roRndUid=899786', '충남 수소에너지전환 규제자유특구 실증사업 안전관리방안 도출 연구용역', '2020.09.23'], ['산업통상자원부', 'https://www.ntis.go.kr/rndgate/eg/un/ra/view.do?roRndUid=899787', '건물에너지진단정보DB 서비스플랫폼 설계 및 운영방안 도출 연구', '2020.09.23'], ['기타', 'https://www.ntis.go.kr/rndgate/eg/un/ra/view.do?roRndUid=899788', '충북 지역기업 특성 및 수요조사 분석 연구용역', '2020.09.23'], ['보건복지부', 'https://www.ntis.go.kr/rndgate/eg/un/ra/view.do?roRndUid=899792', '보건소 모바일 헬스케어 사업의 효율적 운영을 위한 정책평가', '2020.09.23'], ['국토교통부', 'https://www.ntis.go.kr/rndgate/eg/un/ra/view.do?roRndUid=899794', '3차원 공간정보 구축을 위한 정보화전략계획(ISP) 수립', '2020.09.23'], ['기타', 'https://www.ntis.go.kr/rndgate/eg/un/ra/view.do?roRndUid=899795', '2020년 재두루미 취서식지 보전사업 연구용역', '2020.09.23'], ['과학기술정보통신부', 'https://www.ntis.go.kr/rndgate/eg/un/ra/view.do?roRndUid=899796', '후성 및 전사체 데이터 생산', '2020.09.23'], ['과학기술정보통신부', 'https://www.ntis.go.kr/rndgate/eg/un/ra/view.do?roRndUid=899797', '두 가지 종양 면역 마우스 모델에서 면역관문 억제제와 한약의 병용 효능 평가', '2020.09.23'], ['과학기술정보통신부', 'https://www.ntis.go.kr/rndgate/eg/un/ra/view.do?roRndUid=899798', 'AI 학습용데이터 실태조사, 성과관리 및 활용확산 지원사업', '2020.09.23'], ['환경부', 'https://www.ntis.go.kr/rndgate/eg/un/ra/view.do?roRndUid=899800', '녹색혁신기업 성장지원 프로그램 세부계획 고도화 연구', '2020.09.23'], ['보건복지부', 'https://www.ntis.go.kr/rndgate/eg/un/ra/view.do?roRndUid=899802', '미래 디지털병원 기획연구', '2020.09.23'], ['산업통상자원부', 'https://www.ntis.go.kr/rndgate/eg/un/ra/view.do?roRndUid=899871', '산업기술 정책펀드 현황 및 성과 조사분석 용역', '2020.09.23'], ['산업통상자원부', 'https://www.ntis.go.kr/rndgate/eg/un/ra/view.do?roRndUid=899872', '규제자유특구 재정지원사업 성과관리 및 성과분석 연구', '2020.09.23'], ['과학기술정보통신부', 'https://www.ntis.go.kr/rndgate/eg/un/ra/view.do?roRndUid=899922', '2020년 KISTEP 수탁사업(과학기술인력양성추진체계구축사업) 위탁과제 재공모 ', '2020.09.24'], ['과학기술정보통신부', 'https://www.ntis.go.kr/rndgate/eg/un/ra/view.do?roRndUid=899686', '한국인 레퍼런스 장내미생물 게놈 및 트랜스크립톰 NGS 데이터 생산 용역 공고', '2020.09.22'], ['보건복지부', 'https://www.ntis.go.kr/rndgate/eg/un/ra/view.do?roRndUid=899757', '2020년도 의료기술상용화지원센터(코로나19 등 감염병 관련 체외진단‧방역기기 실증지원) 신규지원 대상과제 재공고', '2020.09.23'], ['보건복지부', 'https://www.ntis.go.kr/rndgate/eg/un/ra/view.do?roRndUid=899754', '2020년도 코로나19 치료제・백신 신약개발 신규지원 대상과제 통합공고', '2020.09.23'], ['산업통상자원부', 'https://www.ntis.go.kr/rndgate/eg/un/ra/view.do?roRndUid=899635', '2020년 생태산업개발을 통한 미세먼지 및 온실가스 감축 해외사업(중장기 전략연구) 수행기관 모집공고', '2020.09.22'], ['산업통상자원부', 'https://www.ntis.go.kr/rndgate/eg/un/ra/view.do?roRndUid=899663', '『친환경자동차부품 클러스터조성사업』 5차년도 산업생태계 강화 지원사업 지원기업 모집 통합공고', '2020.09.22'], ['과학기술정보통신부', 'https://www.ntis.go.kr/rndgate/eg/un/ra/view.do?roRndUid=899682', '2020년도 양산시 및 동부경남지역 소재부품산업 기술고도화 지원사업 2차 시행계획 공고', '2020.09.22'], ['과학기술정보통신부', 'https://www.ntis.go.kr/rndgate/eg/un/ra/view.do?roRndUid=899687', '비질환/질환 한국인 장내미생물 유전체 NGS 데이터 생산 용역 입찰 공고', '2020.09.22'], ['환경부', 'https://www.ntis.go.kr/rndgate/eg/un/ra/view.do?roRndUid=899699', '「자원순환(post-플라스틱) 클러스터 최적지 선정 및 타당성조사 연구」 입찰_재공고', '2020.09.22'], ['보건복지부', 'https://www.ntis.go.kr/rndgate/eg/un/ra/view.do?roRndUid=899590', '인체지방유래 콜라겐 추출공정 관련 바이러스 불활화 처리공정 밸리데이션 연구용역', '2020.09.22'], ['과학기술정보통신부', 'https://www.ntis.go.kr/rndgate/eg/un/ra/view.do?roRndUid=899591', '비질환/질환 한국인 장내미생물 유전체 NGS 데이터 생산', '2020.09.22'], ['과학기술정보통신부', 'https://www.ntis.go.kr/rndgate/eg/un/ra/view.do?roRndUid=899592', '한국인 레퍼런스 장내미생물 게놈 및 트랜스크립톰 NGS 데이터 생산', '2020.09.22'], ['기타', 'https://www.ntis.go.kr/rndgate/eg/un/ra/view.do?roRndUid=899594', '서울 청년 평생학습 실태 및 요구조사 용역', '2020.09.22'], ['기타', 'https://www.ntis.go.kr/rndgate/eg/un/ra/view.do?roRndUid=899595', '기술료 징수 사용 실태분석 및 제도개선 방안 연구', '2020.09.22'], ['보건복지부', 'https://www.ntis.go.kr/rndgate/eg/un/ra/view.do?roRndUid=899596', '한국형 나이버트 프로그램 사업 운영 체계 및 제규정 개발', '2020.09.22'], ['국토교통부', 'https://www.ntis.go.kr/rndgate/eg/un/ra/view.do?roRndUid=899599', '2020년 국토교통분야 규제비용 분석 연구', '2020.09.22'], ['해양수산부', 'https://www.ntis.go.kr/rndgate/eg/un/ra/view.do?roRndUid=899600', '위험 유해물질 해양오염사고 대응체계 강화 해양환경관리법 개정방안 연구 용역', '2020.09.22'], ['해양수산부', 'https://www.ntis.go.kr/rndgate/eg/un/ra/view.do?roRndUid=899601', '스마트야드 경제성 분석 용역', '2020.09.22'], ['환경부', 'https://www.ntis.go.kr/rndgate/eg/un/ra/view.do?roRndUid=899602', '화학물질 독성평가를 위한 3차원 세포배양기법 도입 연구', '2020.09.22'], ['기타', 'https://www.ntis.go.kr/rndgate/eg/un/ra/view.do?roRndUid=899604', '2020 인천 MICE산업 조사연구 용역', '2020.09.22'], ['기타', 'https://www.ntis.go.kr/rndgate/eg/un/ra/view.do?roRndUid=899606', '세월호 복원성 및 침수 과정 분석 연구', '2020.09.22'], ['여성가족부', 'https://www.ntis.go.kr/rndgate/eg/un/ra/view.do?roRndUid=899608', '성매매 피해아동청소년 지원센터 프로그램 개발연구_재공고', '2020.09.22'], ['기타', 'https://www.ntis.go.kr/rndgate/eg/un/ra/view.do?roRndUid=899609', '2020년도 전남 게임산업 실태조사 및 발전전략 수립 연구용역', '2020.09.22'], ['중소벤처기업부', 'https://www.ntis.go.kr/rndgate/eg/un/ra/view.do?roRndUid=899610', '2020년 소상공인융자사업 성과분석 연구용역', '2020.09.22'], ['보건복지부', 'https://www.ntis.go.kr/rndgate/eg/un/ra/view.do?roRndUid=899611', '해외진출 의료기관 신용평가모형 연구', '2020.09.22'], ['과학기술정보통신부', 'https://www.ntis.go.kr/rndgate/eg/un/ra/view.do?roRndUid=899612', '글로벌 핵심인재 양성지원 사업 고도화 방안 연구_재공고', '2020.09.22'], ['환경부', 'https://www.ntis.go.kr/rndgate/eg/un/ra/view.do?roRndUid=899613', '환경표지 인증기준 개정품목 기초조사 및 개정(안) 도출 연구', '2020.09.22'], ['환경부', 'https://www.ntis.go.kr/rndgate/eg/un/ra/view.do?roRndUid=899615', '위치추적기와 레이더를 이용한 야생조류 AI의 이동 감시방안 연구(Ⅱ)', '2020.09.22'], ['기타', 'https://www.ntis.go.kr/rndgate/eg/un/ra/view.do?roRndUid=899618', '임진나루와 임진진터 유적 종합정비 기본계획 수립용역', '2020.09.22'], ['기타', 'https://www.ntis.go.kr/rndgate/eg/un/ra/view.do?roRndUid=899619', '평택시 주한미군 역사 아카이브 구축 기본계획수립 및 조사 수집용역', '2020.09.22'], ['교육부', 'https://www.ntis.go.kr/rndgate/eg/un/ra/view.do?roRndUid=899620', '2020 직업체험 멘토 매뉴얼 표준틀 개발', '2020.09.22'], ['외교부', 'https://www.ntis.go.kr/rndgate/eg/un/ra/view.do?roRndUid=899621', '국제교류기금 자산운용 성과평가 및 리스크관리 자문 용역', '2020.09.22'], ['특허청', 'https://www.ntis.go.kr/rndgate/eg/un/ra/view.do?roRndUid=899486', 'IP-R&D 전략 적용 제품군 확장을 위한 기술-디자인 융합 전략 고도화 용역', '2020.09.21'], ['특허청', 'https://www.ntis.go.kr/rndgate/eg/un/ra/view.do?roRndUid=899485', '2020년 소재부품장비 R&D사업연계 IP-R&D전략지원 특허 조사분석 협력기관 모집공고', '2020.09.21'], ['기타', 'https://www.ntis.go.kr/rndgate/eg/un/ra/view.do?roRndUid=899423', '안광학연구센터 자립화 방안 연구_재공고', '2020.09.21'], ['산업통상자원부', 'https://www.ntis.go.kr/rndgate/eg/un/ra/view.do?roRndUid=899582', '신개념 PIM(processing in memory) 반도체 예타 사업 기획을 위한 기술수요조사 공고', '2020.09.22'], ['보건복지부', 'https://www.ntis.go.kr/rndgate/eg/un/ra/view.do?roRndUid=899536', '「인공지능 활용 체외진단 의료기기 개발 지원 사업」 수행기관 모집 공고(~10.5)', '2020.09.21'], ['환경부', 'https://www.ntis.go.kr/rndgate/eg/un/ra/view.do?roRndUid=899535', '「한국형 녹색채권 외부검토기관 인증 및 녹색채권 발행자 지원체계 구축 연구」 입찰 공고', '2020.09.21'], ['환경부', 'https://www.ntis.go.kr/rndgate/eg/un/ra/view.do?roRndUid=899534', '「한국형 녹색 분류체계 고도화 연구」 입찰 공고', '2020.09.21'], ['과학기술정보통신부', 'https://www.ntis.go.kr/rndgate/eg/un/ra/view.do?roRndUid=899513', '블럭체인 생태계 활성화를 위한 국내외 법제도 동향 분석 연구 용역', '2020.09.21'], ['과학기술정보통신부', 'https://www.ntis.go.kr/rndgate/eg/un/ra/view.do?roRndUid=899512', '신SW기술 대국민 인식개선을 위한 정책효과 연구 용역', '2020.09.21'], ['과학기술정보통신부', 'https://www.ntis.go.kr/rndgate/eg/un/ra/view.do?roRndUid=899511', '오픈소스 파급효과 분석을 위한 기초 연구 용역', '2020.09.21'], ['과학기술정보통신부', 'https://www.ntis.go.kr/rndgate/eg/un/ra/view.do?roRndUid=899510', '초중등 SW교육 전문강사 직무 분석 연구 용역', '2020.09.21'], ['문화체육관광부', 'https://www.ntis.go.kr/rndgate/eg/un/ra/view.do?roRndUid=899424', '지역문화분권을 위한 지역문화 현황분석 연구', '2020.09.21'], ['기타', 'https://www.ntis.go.kr/rndgate/eg/un/ra/view.do?roRndUid=899425', '평택항 활성화 지원사업 효과 분석 및 개선 연구용역', '2020.09.21'], ['기타', 'https://www.ntis.go.kr/rndgate/eg/un/ra/view.do?roRndUid=899427', '국립경북과학관 건립을 위한 상세기획 연구용역', '2020.09.21'], ['기타', 'https://www.ntis.go.kr/rndgate/eg/un/ra/view.do?roRndUid=899428', '광주 무인 저속 특장차 국내외 수요처 발굴 및 홍보/마케팅 지원 연구용역_재공고', '2020.09.21'], ['산림청', 'https://www.ntis.go.kr/rndgate/eg/un/ra/view.do?roRndUid=899429', '생활권 수목병해충용 농약등록 확대 연구_재공고', '2020.09.21'], ['문화체육관광부', 'https://www.ntis.go.kr/rndgate/eg/un/ra/view.do?roRndUid=899430', '세종학당재단 중장기 발전 전략 수립 연구', '2020.09.21'], ['환경부', 'https://www.ntis.go.kr/rndgate/eg/un/ra/view.do?roRndUid=899432', '야외훈련시설 운영방안 마련 및 교육콘텐츠 개발 연구', '2020.09.21'], ['농림축산식품부', 'https://www.ntis.go.kr/rndgate/eg/un/ra/view.do?roRndUid=899433', '농지은행 전자계약 도입방안 연구_재공고', '2020.09.21'], ['문화체육관광부', 'https://www.ntis.go.kr/rndgate/eg/un/ra/view.do?roRndUid=899434', '문화관광축제 빅데이터를 활용한 축제 지원 전략 개발', '2020.09.21'], ['기타', 'https://www.ntis.go.kr/rndgate/eg/un/ra/view.do?roRndUid=899435', '원격교육솔루션을 적용한 네트워크 협업 인프라 개발 연구', '2020.09.21'], ['문화재청', 'https://www.ntis.go.kr/rndgate/eg/un/ra/view.do?roRndUid=899436', '집단민속문화재 발굴 및 분류체계 개선 용역', '2020.09.21'], ['해양수산부', 'https://www.ntis.go.kr/rndgate/eg/un/ra/view.do?roRndUid=899437', '득량만 청정어장 재생사업을 위한 실시계획 수립 용역', '2020.09.21'], ['환경부', 'https://www.ntis.go.kr/rndgate/eg/un/ra/view.do?roRndUid=899438', 'HAPs 비산배출시설 정기점검 비용 개선방안 마련 연구', '2020.09.21'], ['경찰청', 'https://www.ntis.go.kr/rndgate/eg/un/ra/view.do?roRndUid=899439', '사기범죄 발생 및 증가원인 분석 및 경찰대응방안 연구 용역_재공고', '2020.09.21'], ['국토교통부', 'https://www.ntis.go.kr/rndgate/eg/un/ra/view.do?roRndUid=899440', '대구공항 민간공항이전 사전타당성 검토 연구', '2020.09.21'], ['기타', 'https://www.ntis.go.kr/rndgate/eg/un/ra/view.do?roRndUid=899441', 'SW융합클러스터2.0 실증단지 구축 수요조사 연구용역', '2020.09.21'], ['기타', 'https://www.ntis.go.kr/rndgate/eg/un/ra/view.do?roRndUid=899443', '언택트 환경에 대응한 대학 경영 및 학사교육 미래전략 수립 연구 컨설팅 용역', '2020.09.21'], ['과학기술정보통신부', 'https://www.ntis.go.kr/rndgate/eg/un/ra/view.do?roRndUid=899445', '과학도서 시장조사 및 우수과학도서 사업 개선방안 연구 용역', '2020.09.21'], ['기타', 'https://www.ntis.go.kr/rndgate/eg/un/ra/view.do?roRndUid=899446', '중대물빛공원 문화시설 건립 타당성 조사용역', '2020.09.21'], ['과학기술정보통신부', 'https://www.ntis.go.kr/rndgate/eg/un/ra/view.do?roRndUid=899448', '2020년 스마트빌리지 보급 및 확산 중장기 발전방안 수립 용역', '2020.09.21'], ['과학기술정보통신부', 'https://www.ntis.go.kr/rndgate/eg/un/ra/view.do?roRndUid=899449', '장기분지 주입정/관층정 폐공 및 폐공 과정 모니터링 평가 용역', '2020.09.21'], ['산업통상자원부', 'https://www.ntis.go.kr/rndgate/eg/un/ra/view.do?roRndUid=899375', '2021년도 대체물질활용기술개발 기술수요조사 공고', '2020.09.18'], ['농림축산식품부', 'https://www.ntis.go.kr/rndgate/eg/un/ra/view.do?roRndUid=898787', '2020년도 1세대 스마트팜 산업화 기술개발사업(스마트팜 빅데이터 플랫폼) 시행계획 공고', '2020.09.15'], ['기타', 'https://www.ntis.go.kr/rndgate/eg/un/ra/view.do?roRndUid=899413', '2020년도 대기환경 개선 및 대중교통 이용 활성화를 위한 『SW서비스개발』 지원사업 수행기업 모집 수정공고 ', '2020.09.21'], ['국토교통부', 'https://www.ntis.go.kr/rndgate/eg/un/ra/view.do?roRndUid=899338', '항공산업발전조합 설립 및 공적보증사업 설계 연구_재공고', '2020.09.19'], ['방위사업청', 'https://www.ntis.go.kr/rndgate/eg/un/ra/view.do?roRndUid=899276', 'K5 방독면 환경시험(가속저장시험) 공인시험기관 선정', '2020.09.18'], ['기타', 'https://www.ntis.go.kr/rndgate/eg/un/ra/view.do?roRndUid=899279', '익산시 지방재정진단 및 재정운영 관리 연구용역', '2020.09.18'], ['과학기술정보통신부', 'https://www.ntis.go.kr/rndgate/eg/un/ra/view.do?roRndUid=899282', '종양 면역 마우스 모델에서 종양 및 면역세포의 전사체 분석', '2020.09.18'], ['기타', 'https://www.ntis.go.kr/rndgate/eg/un/ra/view.do?roRndUid=899283', '광명시 에코디자인 원자재 DB구축 연구용역', '2020.09.18'], ['국토교통부', 'https://www.ntis.go.kr/rndgate/eg/un/ra/view.do?roRndUid=899284', '국토정보 규율체계 및 사업영역 재정비 컨설팅 용역_재공고', '2020.09.18'], ['산업통상자원부', 'https://www.ntis.go.kr/rndgate/eg/un/ra/view.do?roRndUid=899406', '2020년도 제2차 기계산업핵심기술개발사업_제조장비 신규지원 대상과제 공고', '2020.09.21'], ['산업통상자원부', 'https://www.ntis.go.kr/rndgate/eg/un/ra/view.do?roRndUid=899404', '2020년도 제2차 기계산업핵심기술개발사업_제조기반 신규지원 대상과제 공고', '2020.09.21'], ['국토교통부', 'https://www.ntis.go.kr/rndgate/eg/un/ra/view.do?roRndUid=899285', '개발제한구역 내 도시공원 조성 활성화 방안 연구', '2020.09.18'], ['국토교통부', 'https://www.ntis.go.kr/rndgate/eg/un/ra/view.do?roRndUid=899286', '개발제한구역과 연계한 그린인프라 관리방안 연구', '2020.09.18'], ['과학기술정보통신부', 'https://www.ntis.go.kr/rndgate/eg/un/ra/view.do?roRndUid=899287', 'GLP 기관 변경지정 신청을 위한 컨설팅 용역', '2020.09.18'], ['경찰청', 'https://www.ntis.go.kr/rndgate/eg/un/ra/view.do?roRndUid=899290', '한국형 동료 간 개입, 제지 프로그램(한국형 EPIC) 개발 및 적용방안 연구_재공고', '2020.09.18'], ['교육부', 'https://www.ntis.go.kr/rndgate/eg/un/ra/view.do?roRndUid=899291', '교육분야 빅데이터 분석 연구용역', '2020.09.18'], ['기타', 'https://www.ntis.go.kr/rndgate/eg/un/ra/view.do?roRndUid=899293', '서울약령시 실태조사 및 판매 활성화 방안 컨설팅 연구용역', '2020.09.18'], ['농림축산식품부', 'https://www.ntis.go.kr/rndgate/eg/un/ra/view.do?roRndUid=899294', '한국농수산대학 졸업생 영농·영어 정착 활성화 방안 연구용역', '2020.09.18']]\n"
     ]
    }
   ],
   "source": [
    "driver = webdriver.Chrome('C:\\\\Users\\\\user\\\\Downloads\\\\chromedriver.exe')   \n",
    "page = requests.get('https://rch.hufs.ac.kr/jsp/rchnew/ntis/unRndRssList.jsp') \n",
    "driver.implicitly_wait(1)\n",
    "#time.sleep(1)\n",
    "bsobj = BeautifulSoup(page.text,'html.parser')\n",
    "table = bsobj.find(\"div\",{\"class\":\"table list margin_top20\"})\n",
    "data=[]\n",
    "\n",
    "\n",
    "for a in table.find_all('tr'):\n",
    "    infolist=[]\n",
    "    #info = tr.get_text()\n",
    "    #print('info-> ',info)\n",
    "    for b in a.find_all('td'):\n",
    "        info = b.get_text()\n",
    "        infolist.append(info)\n",
    "        links = a.find_all(\"a\")\n",
    "        ahref = []\n",
    "        for a in links:\n",
    "            href = a.attrs['href']\n",
    "            infolist.append(href[19:-2])\n",
    "            #print(href)\n",
    "    data.append(infolist)\n",
    "\n",
    "del data[0]\n",
    "#print(type(data))\n",
    "print(data)\n",
    "\n",
    "driver.quit() #driver 종료 "
   ]
  },
  {
   "cell_type": "code",
   "execution_count": 15,
   "metadata": {},
   "outputs": [
    {
     "name": "stdout",
     "output_type": "stream",
     "text": [
      "[['과학기술정보통신부', 'https://www.ntis.go.kr/rndgate/eg/un/ra/view.do?roRndUid=900196', '2020 인공지능 그랜드 챌린지 2단계 대회 공고', '2020.09.28'], ['과학기술정보통신부', 'https://www.ntis.go.kr/rndgate/eg/un/ra/view.do?roRndUid=900003', '인공지능 생태계 육성을 위한 클러스터 활성화 정책 연구 용역', '2020.09.24'], ['과학기술정보통신부', 'https://www.ntis.go.kr/rndgate/eg/un/ra/view.do?roRndUid=900004', '인공지능 산업 경쟁력 지수 개발 방법론 연구 용역', '2020.09.24'], ['중소벤처기업부', 'https://www.ntis.go.kr/rndgate/eg/un/ra/view.do?roRndUid=899934', '빅데이터 기반 스마트 R&D 지원시스템 연구', '2020.09.24'], ['중소벤처기업부', 'https://www.ntis.go.kr/rndgate/eg/un/ra/view.do?roRndUid=899934', '빅데이터 기반 스마트 R&D 지원시스템 연구', '2020.09.24'], ['산업통상자원부', 'https://www.ntis.go.kr/rndgate/eg/un/ra/view.do?roRndUid=899938', '의료영상 데이터 표준화 기법 비교 연구_재공고', '2020.09.24'], ['질병관리청', 'https://www.ntis.go.kr/rndgate/eg/un/ra/view.do?roRndUid=899002', '전장유전자 기반 코로나19 변이 구조 분석 및 모델링', '2020.09.16'], ['질병관리청', 'https://www.ntis.go.kr/rndgate/eg/un/ra/view.do?roRndUid=899002', '전장유전자 기반 코로나19 변이 구조 분석 및 모델링', '2020.09.16'], ['과학기술정보통신부', 'https://www.ntis.go.kr/rndgate/eg/un/ra/view.do?roRndUid=899796', '후성 및 전사체 데이터 생산', '2020.09.23'], ['과학기술정보통신부', 'https://www.ntis.go.kr/rndgate/eg/un/ra/view.do?roRndUid=899797', '두 가지 종양 면역 마우스 모델에서 면역관문 억제제와 한약의 병용 효능 평가', '2020.09.23'], ['과학기술정보통신부', 'https://www.ntis.go.kr/rndgate/eg/un/ra/view.do?roRndUid=899798', 'AI 학습용데이터 실태조사, 성과관리 및 활용확산 지원사업', '2020.09.23'], ['과학기술정보통신부', 'https://www.ntis.go.kr/rndgate/eg/un/ra/view.do?roRndUid=899798', 'AI 학습용데이터 실태조사, 성과관리 및 활용확산 지원사업', '2020.09.23'], ['과학기술정보통신부', 'https://www.ntis.go.kr/rndgate/eg/un/ra/view.do?roRndUid=899686', '한국인 레퍼런스 장내미생물 게놈 및 트랜스크립톰 NGS 데이터 생산 용역 공고', '2020.09.22'], ['과학기술정보통신부', 'https://www.ntis.go.kr/rndgate/eg/un/ra/view.do?roRndUid=899687', '비질환/질환 한국인 장내미생물 유전체 NGS 데이터 생산 용역 입찰 공고', '2020.09.22'], ['과학기술정보통신부', 'https://www.ntis.go.kr/rndgate/eg/un/ra/view.do?roRndUid=899591', '비질환/질환 한국인 장내미생물 유전체 NGS 데이터 생산', '2020.09.22'], ['과학기술정보통신부', 'https://www.ntis.go.kr/rndgate/eg/un/ra/view.do?roRndUid=899592', '한국인 레퍼런스 장내미생물 게놈 및 트랜스크립톰 NGS 데이터 생산', '2020.09.22'], ['환경부', 'https://www.ntis.go.kr/rndgate/eg/un/ra/view.do?roRndUid=899615', '위치추적기와 레이더를 이용한 야생조류 AI의 이동 감시방안 연구(Ⅱ)', '2020.09.22'], ['보건복지부', 'https://www.ntis.go.kr/rndgate/eg/un/ra/view.do?roRndUid=899536', '「인공지능 활용 체외진단 의료기기 개발 지원 사업」 수행기관 모집 공고(~10.5)', '2020.09.21'], ['문화체육관광부', 'https://www.ntis.go.kr/rndgate/eg/un/ra/view.do?roRndUid=899434', '문화관광축제 빅데이터를 활용한 축제 지원 전략 개발', '2020.09.21'], ['문화체육관광부', 'https://www.ntis.go.kr/rndgate/eg/un/ra/view.do?roRndUid=899434', '문화관광축제 빅데이터를 활용한 축제 지원 전략 개발', '2020.09.21'], ['농림축산식품부', 'https://www.ntis.go.kr/rndgate/eg/un/ra/view.do?roRndUid=898787', '2020년도 1세대 스마트팜 산업화 기술개발사업(스마트팜 빅데이터 플랫폼) 시행계획 공고', '2020.09.15'], ['농림축산식품부', 'https://www.ntis.go.kr/rndgate/eg/un/ra/view.do?roRndUid=898787', '2020년도 1세대 스마트팜 산업화 기술개발사업(스마트팜 빅데이터 플랫폼) 시행계획 공고', '2020.09.15'], ['과학기술정보통신부', 'https://www.ntis.go.kr/rndgate/eg/un/ra/view.do?roRndUid=899282', '종양 면역 마우스 모델에서 종양 및 면역세포의 전사체 분석', '2020.09.18'], ['교육부', 'https://www.ntis.go.kr/rndgate/eg/un/ra/view.do?roRndUid=899291', '교육분야 빅데이터 분석 연구용역', '2020.09.18'], ['교육부', 'https://www.ntis.go.kr/rndgate/eg/un/ra/view.do?roRndUid=899291', '교육분야 빅데이터 분석 연구용역', '2020.09.18']]\n"
     ]
    }
   ],
   "source": [
    "search_list = ['예측','모델','데이터','빅데이터','인공지능','모델링','AI','기계학습','딥페이크','딥러닝','임베딩']\n",
    "resultlist=[]\n",
    "for s in data:\n",
    "    #print('s=>',s)\n",
    "    #print(s[2])\n",
    "    for ls in search_list:\n",
    "        if ls in s[2]:\n",
    "            resultlist.append(s)\n",
    "            \n",
    "print(resultlist)"
   ]
  },
  {
   "cell_type": "code",
   "execution_count": null,
   "metadata": {},
   "outputs": [],
   "source": []
  },
  {
   "cell_type": "code",
   "execution_count": 16,
   "metadata": {
    "scrolled": true
   },
   "outputs": [
    {
     "name": "stdout",
     "output_type": "stream",
     "text": [
      "db save\n"
     ]
    }
   ],
   "source": [
    "conn = pymysql.connect(user = 'root',\n",
    "    password = '',\n",
    "    host = '',\n",
    "    database = 'crawler_test',\n",
    "    port = 3306\n",
    ")\n",
    "curs = conn.cursor()\n",
    "#data => resultlist\n",
    "for i in range(1,len(resultlist)):\n",
    "    #print(data[i][0])\n",
    "    data_company = resultlist[i][0]\n",
    "    data_link = resultlist[i][1]\n",
    "    data_title = resultlist[i][2]\n",
    "    data_date = resultlist[i][3]\n",
    "    curs.execute(\"insert ignore into rndrss3 values(%s,%s,%s,%s)\",(data_company,data_link,data_title,data_date))\n",
    "print(\"db save\")\n",
    "conn.commit()\n",
    "conn.close()"
   ]
  },
  {
   "cell_type": "code",
   "execution_count": null,
   "metadata": {},
   "outputs": [],
   "source": []
  },
  {
   "cell_type": "code",
   "execution_count": null,
   "metadata": {},
   "outputs": [],
   "source": []
  },
  {
   "cell_type": "code",
   "execution_count": null,
   "metadata": {},
   "outputs": [],
   "source": []
  }
 ],
 "metadata": {
  "kernelspec": {
   "display_name": "Python 3",
   "language": "python",
   "name": "python3"
  },
  "language_info": {
   "codemirror_mode": {
    "name": "ipython",
    "version": 3
   },
   "file_extension": ".py",
   "mimetype": "text/x-python",
   "name": "python",
   "nbconvert_exporter": "python",
   "pygments_lexer": "ipython3",
   "version": "3.7.6"
  }
 },
 "nbformat": 4,
 "nbformat_minor": 4
}
